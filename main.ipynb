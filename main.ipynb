{
 "cells": [
  {
   "cell_type": "markdown",
   "metadata": {},
   "source": [
    "<h1>Emotion Detection</h1>"
   ]
  },
  {
   "cell_type": "code",
   "execution_count": null,
   "metadata": {},
   "outputs": [],
   "source": [
    "!wget -q https://storage.googleapis.com/mediapipe-models/gesture_recognizer/gesture_recognizer/float16/1/gesture_recognizer.task"
   ]
  },
  {
   "cell_type": "code",
   "execution_count": 21,
   "metadata": {},
   "outputs": [],
   "source": [
    "import os\n",
    "import json"
   ]
  },
  {
   "cell_type": "code",
   "execution_count": 22,
   "metadata": {},
   "outputs": [
    {
     "data": {
      "text/plain": [
       "['angry', 'disgust', 'fear', 'happy', 'neutral', 'sad', 'surprise']"
      ]
     },
     "execution_count": 22,
     "metadata": {},
     "output_type": "execute_result"
    }
   ],
   "source": [
    "def get_moods(data_path):\n",
    "    moods = []\n",
    "    for mood_name in os.listdir(data_path):\n",
    "        moods.append(mood_name)\n",
    "    return moods\n",
    "\n",
    "moods = get_moods('/mnt/c/Users/lenovo/Downloads/mood/train')\n",
    "moods"
   ]
  },
  {
   "cell_type": "code",
   "execution_count": 23,
   "metadata": {},
   "outputs": [],
   "source": [
    "data_path = '/mnt/c/Users/lenovo/Downloads/mood/train'\n",
    "\n",
    "# Get first 100 images from each mood\n",
    "train_data = {}\n",
    "for mood in moods:\n",
    "    mood_path = os.path.join(data_path, mood)\n",
    "    images = os.listdir(mood_path)\n",
    "    train_data[mood] = [\n",
    "        os.path.join(mood_path, image) for image in images[:1000]\n",
    "    ]\n",
    "\n",
    "data_path = '/mnt/c/Users/lenovo/Downloads/mood/validation'\n",
    "\n",
    "val_data = {}\n",
    "for mood in moods:\n",
    "    mood_path = os.path.join(data_path, mood)\n",
    "    images = os.listdir(mood_path)\n",
    "    val_data[mood] = [\n",
    "        os.path.join(mood_path, image) for image in images[:100]\n",
    "    ]"
   ]
  },
  {
   "cell_type": "code",
   "execution_count": 24,
   "metadata": {},
   "outputs": [
    {
     "name": "stderr",
     "output_type": "stream",
     "text": [
      "libEGL warning: MESA-LOADER: failed to open swrast: /usr/lib/dri/swrast_dri.so: cannot open shared object file: No such file or directory (search paths /usr/lib/x86_64-linux-gnu/dri:\\$${ORIGIN}/dri:/usr/lib/dri, suffix _dri)\n",
      "\n",
      "libEGL warning: MESA-LOADER: failed to open swrast: /usr/lib/dri/swrast_dri.so: cannot open shared object file: No such file or directory (search paths /usr/lib/x86_64-linux-gnu/dri:\\$${ORIGIN}/dri:/usr/lib/dri, suffix _dri)\n",
      "\n",
      "libEGL warning: MESA-LOADER: failed to open swrast: /usr/lib/dri/swrast_dri.so: cannot open shared object file: No such file or directory (search paths /usr/lib/x86_64-linux-gnu/dri:\\$${ORIGIN}/dri:/usr/lib/dri, suffix _dri)\n",
      "\n",
      "libEGL warning: MESA-LOADER: failed to open swrast: /usr/lib/dri/swrast_dri.so: cannot open shared object file: No such file or directory (search paths /usr/lib/x86_64-linux-gnu/dri:\\$${ORIGIN}/dri:/usr/lib/dri, suffix _dri)\n",
      "\n",
      "libEGL warning: MESA-LOADER: failed to open swrast: /usr/lib/dri/swrast_dri.so: cannot open shared object file: No such file or directory (search paths /usr/lib/x86_64-linux-gnu/dri:\\$${ORIGIN}/dri:/usr/lib/dri, suffix _dri)\n",
      "\n",
      "libEGL warning: MESA-LOADER: failed to open swrast: /usr/lib/dri/swrast_dri.so: cannot open shared object file: No such file or directory (search paths /usr/lib/x86_64-linux-gnu/dri:\\$${ORIGIN}/dri:/usr/lib/dri, suffix _dri)\n",
      "\n",
      "libEGL warning: MESA-LOADER: failed to open swrast: /usr/lib/dri/swrast_dri.so: cannot open shared object file: No such file or directory (search paths /usr/lib/x86_64-linux-gnu/dri:\\$${ORIGIN}/dri:/usr/lib/dri, suffix _dri)\n",
      "\n",
      "libEGL warning: MESA-LOADER: failed to open swrast: /usr/lib/dri/swrast_dri.so: cannot open shared object file: No such file or directory (search paths /usr/lib/x86_64-linux-gnu/dri:\\$${ORIGIN}/dri:/usr/lib/dri, suffix _dri)\n",
      "\n",
      "libEGL warning: MESA-LOADER: failed to open swrast: /usr/lib/dri/swrast_dri.so: cannot open shared object file: No such file or directory (search paths /usr/lib/x86_64-linux-gnu/dri:\\$${ORIGIN}/dri:/usr/lib/dri, suffix _dri)\n",
      "\n",
      "libEGL warning: MESA-LOADER: failed to open swrast: /usr/lib/dri/swrast_dri.so: cannot open shared object file: No such file or directory (search paths /usr/lib/x86_64-linux-gnu/dri:\\$${ORIGIN}/dri:/usr/lib/dri, suffix _dri)\n",
      "\n",
      "libEGL warning: MESA-LOADER: failed to open swrast: /usr/lib/dri/swrast_dri.so: cannot open shared object file: No such file or directory (search paths /usr/lib/x86_64-linux-gnu/dri:\\$${ORIGIN}/dri:/usr/lib/dri, suffix _dri)\n",
      "\n",
      "libEGL warning: MESA-LOADER: failed to open swrast: /usr/lib/dri/swrast_dri.so: cannot open shared object file: No such file or directory (search paths /usr/lib/x86_64-linux-gnu/dri:\\$${ORIGIN}/dri:/usr/lib/dri, suffix _dri)\n",
      "\n",
      "libEGL warning: MESA-LOADER: failed to open swrast: /usr/lib/dri/swrast_dri.so: cannot open shared object file: No such file or directory (search paths /usr/lib/x86_64-linux-gnu/dri:\\$${ORIGIN}/dri:/usr/lib/dri, suffix _dri)\n",
      "\n"
     ]
    }
   ],
   "source": [
    "from pathlib import Path\n",
    "\n",
    "import os\n",
    "import cv2\n",
    "import numpy as np\n",
    "import mediapipe as mp\n",
    "\n",
    "# Load the mediapipe holistic model\n",
    "mp_holistic = mp.solutions.holistic\n",
    "\n",
    "# Initialize the holistic model\n",
    "holistic = mp_holistic.Holistic(\n",
    "    min_detection_confidence=0.5,\n",
    "    min_tracking_confidence=0.5\n",
    ")\n",
    "\n",
    "def get_facial_landmarks(image_path):\n",
    "    image = cv2.imread(image_path)\n",
    "    image_rgb = cv2.cvtColor(image, cv2.COLOR_BGR2RGB)\n",
    "\n",
    "    results = holistic.process(image_rgb)\n",
    "\n",
    "    if results.face_landmarks is None:\n",
    "        return None\n",
    "\n",
    "    return np.array([\n",
    "        [\n",
    "            landmark.x,\n",
    "            landmark.y,\n",
    "            landmark.z\n",
    "        ] for landmark in results.face_landmarks.landmark\n",
    "    ])"
   ]
  },
  {
   "cell_type": "code",
   "execution_count": null,
   "metadata": {},
   "outputs": [
    {
     "data": {
      "application/vnd.jupyter.widget-view+json": {
       "model_id": "51ccd61d70334803a8db4609c335a809",
       "version_major": 2,
       "version_minor": 0
      },
      "text/plain": [
       "Processing moods:   0%|          | 0/7 [00:00<?, ?it/s]"
      ]
     },
     "metadata": {},
     "output_type": "display_data"
    },
    {
     "data": {
      "application/vnd.jupyter.widget-view+json": {
       "model_id": "fae001ff0d2e4426ba9acd7e557b165a",
       "version_major": 2,
       "version_minor": 0
      },
      "text/plain": [
       "Processing images for angry:   0%|          | 0/1000 [00:00<?, ?it/s]"
      ]
     },
     "metadata": {},
     "output_type": "display_data"
    },
    {
     "name": "stdout",
     "output_type": "stream",
     "text": [
      "No face detected in /mnt/c/Users/lenovo/Downloads/mood/train/angry/10069.jpg\n",
      "No face detected in /mnt/c/Users/lenovo/Downloads/mood/train/angry/1015.jpg\n",
      "No face detected in /mnt/c/Users/lenovo/Downloads/mood/train/angry/1016.jpg\n",
      "No face detected in /mnt/c/Users/lenovo/Downloads/mood/train/angry/10167.jpg\n",
      "No face detected in /mnt/c/Users/lenovo/Downloads/mood/train/angry/10178.jpg\n",
      "No face detected in /mnt/c/Users/lenovo/Downloads/mood/train/angry/10192.jpg\n",
      "No face detected in /mnt/c/Users/lenovo/Downloads/mood/train/angry/10196.jpg\n",
      "No face detected in /mnt/c/Users/lenovo/Downloads/mood/train/angry/10202.jpg\n",
      "No face detected in /mnt/c/Users/lenovo/Downloads/mood/train/angry/10240.jpg\n",
      "No face detected in /mnt/c/Users/lenovo/Downloads/mood/train/angry/10242.jpg\n",
      "No face detected in /mnt/c/Users/lenovo/Downloads/mood/train/angry/10250.jpg\n",
      "No face detected in /mnt/c/Users/lenovo/Downloads/mood/train/angry/10385.jpg\n",
      "No face detected in /mnt/c/Users/lenovo/Downloads/mood/train/angry/10397.jpg\n",
      "No face detected in /mnt/c/Users/lenovo/Downloads/mood/train/angry/10819.jpg\n",
      "No face detected in /mnt/c/Users/lenovo/Downloads/mood/train/angry/10851.jpg\n",
      "No face detected in /mnt/c/Users/lenovo/Downloads/mood/train/angry/10925.jpg\n",
      "No face detected in /mnt/c/Users/lenovo/Downloads/mood/train/angry/10939.jpg\n",
      "No face detected in /mnt/c/Users/lenovo/Downloads/mood/train/angry/10988.jpg\n",
      "No face detected in /mnt/c/Users/lenovo/Downloads/mood/train/angry/11004.jpg\n",
      "No face detected in /mnt/c/Users/lenovo/Downloads/mood/train/angry/11053.jpg\n",
      "No face detected in /mnt/c/Users/lenovo/Downloads/mood/train/angry/11060.jpg\n",
      "No face detected in /mnt/c/Users/lenovo/Downloads/mood/train/angry/11206.jpg\n",
      "No face detected in /mnt/c/Users/lenovo/Downloads/mood/train/angry/11286.jpg\n",
      "No face detected in /mnt/c/Users/lenovo/Downloads/mood/train/angry/11289.jpg\n",
      "No face detected in /mnt/c/Users/lenovo/Downloads/mood/train/angry/11315.jpg\n",
      "No face detected in /mnt/c/Users/lenovo/Downloads/mood/train/angry/11325.jpg\n",
      "No face detected in /mnt/c/Users/lenovo/Downloads/mood/train/angry/11379.jpg\n",
      "No face detected in /mnt/c/Users/lenovo/Downloads/mood/train/angry/11386.jpg\n",
      "No face detected in /mnt/c/Users/lenovo/Downloads/mood/train/angry/11389.jpg\n",
      "No face detected in /mnt/c/Users/lenovo/Downloads/mood/train/angry/11403.jpg\n",
      "No face detected in /mnt/c/Users/lenovo/Downloads/mood/train/angry/11410.jpg\n",
      "No face detected in /mnt/c/Users/lenovo/Downloads/mood/train/angry/11411.jpg\n",
      "No face detected in /mnt/c/Users/lenovo/Downloads/mood/train/angry/11420.jpg\n",
      "No face detected in /mnt/c/Users/lenovo/Downloads/mood/train/angry/11426.jpg\n",
      "No face detected in /mnt/c/Users/lenovo/Downloads/mood/train/angry/11432.jpg\n",
      "No face detected in /mnt/c/Users/lenovo/Downloads/mood/train/angry/11449.jpg\n",
      "No face detected in /mnt/c/Users/lenovo/Downloads/mood/train/angry/11460.jpg\n",
      "No face detected in /mnt/c/Users/lenovo/Downloads/mood/train/angry/11464.jpg\n",
      "No face detected in /mnt/c/Users/lenovo/Downloads/mood/train/angry/1147.jpg\n",
      "No face detected in /mnt/c/Users/lenovo/Downloads/mood/train/angry/11474.jpg\n",
      "No face detected in /mnt/c/Users/lenovo/Downloads/mood/train/angry/11475.jpg\n",
      "No face detected in /mnt/c/Users/lenovo/Downloads/mood/train/angry/11480.jpg\n",
      "No face detected in /mnt/c/Users/lenovo/Downloads/mood/train/angry/11537.jpg\n",
      "No face detected in /mnt/c/Users/lenovo/Downloads/mood/train/angry/11877.jpg\n",
      "No face detected in /mnt/c/Users/lenovo/Downloads/mood/train/angry/1192.jpg\n",
      "No face detected in /mnt/c/Users/lenovo/Downloads/mood/train/angry/11929.jpg\n",
      "No face detected in /mnt/c/Users/lenovo/Downloads/mood/train/angry/1216.jpg\n",
      "No face detected in /mnt/c/Users/lenovo/Downloads/mood/train/angry/12249.jpg\n",
      "No face detected in /mnt/c/Users/lenovo/Downloads/mood/train/angry/12304.jpg\n",
      "No face detected in /mnt/c/Users/lenovo/Downloads/mood/train/angry/12876.jpg\n",
      "No face detected in /mnt/c/Users/lenovo/Downloads/mood/train/angry/12947.jpg\n",
      "No face detected in /mnt/c/Users/lenovo/Downloads/mood/train/angry/13128.jpg\n",
      "No face detected in /mnt/c/Users/lenovo/Downloads/mood/train/angry/13148.jpg\n",
      "No face detected in /mnt/c/Users/lenovo/Downloads/mood/train/angry/13201.jpg\n",
      "No face detected in /mnt/c/Users/lenovo/Downloads/mood/train/angry/13345.jpg\n",
      "No face detected in /mnt/c/Users/lenovo/Downloads/mood/train/angry/13402.jpg\n",
      "No face detected in /mnt/c/Users/lenovo/Downloads/mood/train/angry/13478.jpg\n",
      "No face detected in /mnt/c/Users/lenovo/Downloads/mood/train/angry/13559.jpg\n",
      "No face detected in /mnt/c/Users/lenovo/Downloads/mood/train/angry/1396.jpg\n",
      "No face detected in /mnt/c/Users/lenovo/Downloads/mood/train/angry/1397.jpg\n",
      "No face detected in /mnt/c/Users/lenovo/Downloads/mood/train/angry/14061.jpg\n",
      "No face detected in /mnt/c/Users/lenovo/Downloads/mood/train/angry/14129.jpg\n",
      "No face detected in /mnt/c/Users/lenovo/Downloads/mood/train/angry/14202.jpg\n",
      "No face detected in /mnt/c/Users/lenovo/Downloads/mood/train/angry/14313.jpg\n",
      "No face detected in /mnt/c/Users/lenovo/Downloads/mood/train/angry/14338.jpg\n",
      "No face detected in /mnt/c/Users/lenovo/Downloads/mood/train/angry/14439.jpg\n",
      "No face detected in /mnt/c/Users/lenovo/Downloads/mood/train/angry/14478.jpg\n",
      "No face detected in /mnt/c/Users/lenovo/Downloads/mood/train/angry/14614.jpg\n",
      "No face detected in /mnt/c/Users/lenovo/Downloads/mood/train/angry/14698.jpg\n",
      "No face detected in /mnt/c/Users/lenovo/Downloads/mood/train/angry/14719.jpg\n",
      "No face detected in /mnt/c/Users/lenovo/Downloads/mood/train/angry/14864.jpg\n",
      "No face detected in /mnt/c/Users/lenovo/Downloads/mood/train/angry/1490.jpg\n",
      "No face detected in /mnt/c/Users/lenovo/Downloads/mood/train/angry/15020.jpg\n",
      "No face detected in /mnt/c/Users/lenovo/Downloads/mood/train/angry/15055.jpg\n",
      "No face detected in /mnt/c/Users/lenovo/Downloads/mood/train/angry/15223.jpg\n",
      "No face detected in /mnt/c/Users/lenovo/Downloads/mood/train/angry/15297.jpg\n",
      "No face detected in /mnt/c/Users/lenovo/Downloads/mood/train/angry/15844.jpg\n",
      "No face detected in /mnt/c/Users/lenovo/Downloads/mood/train/angry/1586.jpg\n",
      "No face detected in /mnt/c/Users/lenovo/Downloads/mood/train/angry/1588.jpg\n",
      "No face detected in /mnt/c/Users/lenovo/Downloads/mood/train/angry/15894.jpg\n",
      "No face detected in /mnt/c/Users/lenovo/Downloads/mood/train/angry/16286.jpg\n",
      "No face detected in /mnt/c/Users/lenovo/Downloads/mood/train/angry/16638.jpg\n",
      "No face detected in /mnt/c/Users/lenovo/Downloads/mood/train/angry/16657.jpg\n",
      "No face detected in /mnt/c/Users/lenovo/Downloads/mood/train/angry/16662.jpg\n",
      "No face detected in /mnt/c/Users/lenovo/Downloads/mood/train/angry/16778.jpg\n",
      "No face detected in /mnt/c/Users/lenovo/Downloads/mood/train/angry/16919.jpg\n",
      "No face detected in /mnt/c/Users/lenovo/Downloads/mood/train/angry/17442.jpg\n",
      "No face detected in /mnt/c/Users/lenovo/Downloads/mood/train/angry/17650.jpg\n",
      "No face detected in /mnt/c/Users/lenovo/Downloads/mood/train/angry/17774.jpg\n",
      "No face detected in /mnt/c/Users/lenovo/Downloads/mood/train/angry/17801.jpg\n",
      "No face detected in /mnt/c/Users/lenovo/Downloads/mood/train/angry/17823.jpg\n",
      "No face detected in /mnt/c/Users/lenovo/Downloads/mood/train/angry/17829.jpg\n",
      "No face detected in /mnt/c/Users/lenovo/Downloads/mood/train/angry/17835.jpg\n",
      "No face detected in /mnt/c/Users/lenovo/Downloads/mood/train/angry/17856.jpg\n",
      "No face detected in /mnt/c/Users/lenovo/Downloads/mood/train/angry/17881.jpg\n",
      "No face detected in /mnt/c/Users/lenovo/Downloads/mood/train/angry/18000.jpg\n",
      "No face detected in /mnt/c/Users/lenovo/Downloads/mood/train/angry/18008.jpg\n",
      "No face detected in /mnt/c/Users/lenovo/Downloads/mood/train/angry/18176.jpg\n"
     ]
    },
    {
     "data": {
      "application/vnd.jupyter.widget-view+json": {
       "model_id": "9202f9ae88a6455880c6cbea63235d51",
       "version_major": 2,
       "version_minor": 0
      },
      "text/plain": [
       "Processing images for disgust:   0%|          | 0/436 [00:00<?, ?it/s]"
      ]
     },
     "metadata": {},
     "output_type": "display_data"
    },
    {
     "name": "stdout",
     "output_type": "stream",
     "text": [
      "No face detected in /mnt/c/Users/lenovo/Downloads/mood/train/disgust/11971.jpg\n",
      "No face detected in /mnt/c/Users/lenovo/Downloads/mood/train/disgust/13458.jpg\n",
      "No face detected in /mnt/c/Users/lenovo/Downloads/mood/train/disgust/14680.jpg\n",
      "No face detected in /mnt/c/Users/lenovo/Downloads/mood/train/disgust/14685.jpg\n",
      "No face detected in /mnt/c/Users/lenovo/Downloads/mood/train/disgust/18269.jpg\n",
      "No face detected in /mnt/c/Users/lenovo/Downloads/mood/train/disgust/20103.jpg\n",
      "No face detected in /mnt/c/Users/lenovo/Downloads/mood/train/disgust/2151.jpg\n",
      "No face detected in /mnt/c/Users/lenovo/Downloads/mood/train/disgust/2163.jpg\n",
      "No face detected in /mnt/c/Users/lenovo/Downloads/mood/train/disgust/24576.jpg\n",
      "No face detected in /mnt/c/Users/lenovo/Downloads/mood/train/disgust/26002.jpg\n",
      "No face detected in /mnt/c/Users/lenovo/Downloads/mood/train/disgust/2625.jpg\n",
      "No face detected in /mnt/c/Users/lenovo/Downloads/mood/train/disgust/2795.jpg\n",
      "No face detected in /mnt/c/Users/lenovo/Downloads/mood/train/disgust/33764.jpg\n",
      "No face detected in /mnt/c/Users/lenovo/Downloads/mood/train/disgust/35409.jpg\n",
      "No face detected in /mnt/c/Users/lenovo/Downloads/mood/train/disgust/4448.jpg\n",
      "No face detected in /mnt/c/Users/lenovo/Downloads/mood/train/disgust/473.jpg\n",
      "No face detected in /mnt/c/Users/lenovo/Downloads/mood/train/disgust/4889.jpg\n",
      "No face detected in /mnt/c/Users/lenovo/Downloads/mood/train/disgust/5692.jpg\n",
      "No face detected in /mnt/c/Users/lenovo/Downloads/mood/train/disgust/5958.jpg\n",
      "No face detected in /mnt/c/Users/lenovo/Downloads/mood/train/disgust/5964.jpg\n",
      "No face detected in /mnt/c/Users/lenovo/Downloads/mood/train/disgust/6145.jpg\n",
      "No face detected in /mnt/c/Users/lenovo/Downloads/mood/train/disgust/6177.jpg\n",
      "No face detected in /mnt/c/Users/lenovo/Downloads/mood/train/disgust/6229.jpg\n",
      "No face detected in /mnt/c/Users/lenovo/Downloads/mood/train/disgust/6454.jpg\n",
      "No face detected in /mnt/c/Users/lenovo/Downloads/mood/train/disgust/6548.jpg\n",
      "No face detected in /mnt/c/Users/lenovo/Downloads/mood/train/disgust/8877.jpg\n",
      "No face detected in /mnt/c/Users/lenovo/Downloads/mood/train/disgust/9679.jpg\n",
      "No face detected in /mnt/c/Users/lenovo/Downloads/mood/train/disgust/9738.jpg\n",
      "No face detected in /mnt/c/Users/lenovo/Downloads/mood/train/disgust/9844.jpg\n",
      "No face detected in /mnt/c/Users/lenovo/Downloads/mood/train/disgust/9913.jpg\n"
     ]
    },
    {
     "data": {
      "application/vnd.jupyter.widget-view+json": {
       "model_id": "a6b23cb7cf734beaa2288d2645f82bac",
       "version_major": 2,
       "version_minor": 0
      },
      "text/plain": [
       "Processing images for fear:   0%|          | 0/1000 [00:00<?, ?it/s]"
      ]
     },
     "metadata": {},
     "output_type": "display_data"
    },
    {
     "name": "stdout",
     "output_type": "stream",
     "text": [
      "No face detected in /mnt/c/Users/lenovo/Downloads/mood/train/fear/10010.jpg\n",
      "No face detected in /mnt/c/Users/lenovo/Downloads/mood/train/fear/10015.jpg\n",
      "No face detected in /mnt/c/Users/lenovo/Downloads/mood/train/fear/10149.jpg\n",
      "No face detected in /mnt/c/Users/lenovo/Downloads/mood/train/fear/10279.jpg\n",
      "No face detected in /mnt/c/Users/lenovo/Downloads/mood/train/fear/1036.jpg\n",
      "No face detected in /mnt/c/Users/lenovo/Downloads/mood/train/fear/10582.jpg\n",
      "No face detected in /mnt/c/Users/lenovo/Downloads/mood/train/fear/1063.jpg\n",
      "No face detected in /mnt/c/Users/lenovo/Downloads/mood/train/fear/10749.jpg\n",
      "No face detected in /mnt/c/Users/lenovo/Downloads/mood/train/fear/10822.jpg\n",
      "No face detected in /mnt/c/Users/lenovo/Downloads/mood/train/fear/10869.jpg\n",
      "No face detected in /mnt/c/Users/lenovo/Downloads/mood/train/fear/10951.jpg\n",
      "No face detected in /mnt/c/Users/lenovo/Downloads/mood/train/fear/11099.jpg\n",
      "No face detected in /mnt/c/Users/lenovo/Downloads/mood/train/fear/11423.jpg\n",
      "No face detected in /mnt/c/Users/lenovo/Downloads/mood/train/fear/11431.jpg\n",
      "No face detected in /mnt/c/Users/lenovo/Downloads/mood/train/fear/11468.jpg\n",
      "No face detected in /mnt/c/Users/lenovo/Downloads/mood/train/fear/11521.jpg\n",
      "No face detected in /mnt/c/Users/lenovo/Downloads/mood/train/fear/11830.jpg\n",
      "No face detected in /mnt/c/Users/lenovo/Downloads/mood/train/fear/12263.jpg\n",
      "No face detected in /mnt/c/Users/lenovo/Downloads/mood/train/fear/12293.jpg\n",
      "No face detected in /mnt/c/Users/lenovo/Downloads/mood/train/fear/1274.jpg\n",
      "No face detected in /mnt/c/Users/lenovo/Downloads/mood/train/fear/12795.jpg\n",
      "No face detected in /mnt/c/Users/lenovo/Downloads/mood/train/fear/12965.jpg\n",
      "No face detected in /mnt/c/Users/lenovo/Downloads/mood/train/fear/12980.jpg\n",
      "No face detected in /mnt/c/Users/lenovo/Downloads/mood/train/fear/1301.jpg\n",
      "No face detected in /mnt/c/Users/lenovo/Downloads/mood/train/fear/13036.jpg\n",
      "No face detected in /mnt/c/Users/lenovo/Downloads/mood/train/fear/13537.jpg\n",
      "No face detected in /mnt/c/Users/lenovo/Downloads/mood/train/fear/13731.jpg\n",
      "No face detected in /mnt/c/Users/lenovo/Downloads/mood/train/fear/13826.jpg\n",
      "No face detected in /mnt/c/Users/lenovo/Downloads/mood/train/fear/13887.jpg\n",
      "No face detected in /mnt/c/Users/lenovo/Downloads/mood/train/fear/13932.jpg\n",
      "No face detected in /mnt/c/Users/lenovo/Downloads/mood/train/fear/13937.jpg\n",
      "No face detected in /mnt/c/Users/lenovo/Downloads/mood/train/fear/1398.jpg\n",
      "No face detected in /mnt/c/Users/lenovo/Downloads/mood/train/fear/140.jpg\n",
      "No face detected in /mnt/c/Users/lenovo/Downloads/mood/train/fear/14247.jpg\n",
      "No face detected in /mnt/c/Users/lenovo/Downloads/mood/train/fear/14279.jpg\n",
      "No face detected in /mnt/c/Users/lenovo/Downloads/mood/train/fear/14373.jpg\n",
      "No face detected in /mnt/c/Users/lenovo/Downloads/mood/train/fear/14443.jpg\n",
      "No face detected in /mnt/c/Users/lenovo/Downloads/mood/train/fear/14457.jpg\n",
      "No face detected in /mnt/c/Users/lenovo/Downloads/mood/train/fear/14650.jpg\n",
      "No face detected in /mnt/c/Users/lenovo/Downloads/mood/train/fear/14721.jpg\n",
      "No face detected in /mnt/c/Users/lenovo/Downloads/mood/train/fear/14862.jpg\n",
      "No face detected in /mnt/c/Users/lenovo/Downloads/mood/train/fear/15003.jpg\n",
      "No face detected in /mnt/c/Users/lenovo/Downloads/mood/train/fear/15079.jpg\n",
      "No face detected in /mnt/c/Users/lenovo/Downloads/mood/train/fear/15164.jpg\n",
      "No face detected in /mnt/c/Users/lenovo/Downloads/mood/train/fear/15372.jpg\n",
      "No face detected in /mnt/c/Users/lenovo/Downloads/mood/train/fear/15457.jpg\n",
      "No face detected in /mnt/c/Users/lenovo/Downloads/mood/train/fear/15483.jpg\n",
      "No face detected in /mnt/c/Users/lenovo/Downloads/mood/train/fear/15574.jpg\n",
      "No face detected in /mnt/c/Users/lenovo/Downloads/mood/train/fear/15694.jpg\n",
      "No face detected in /mnt/c/Users/lenovo/Downloads/mood/train/fear/16281.jpg\n",
      "No face detected in /mnt/c/Users/lenovo/Downloads/mood/train/fear/16417.jpg\n",
      "No face detected in /mnt/c/Users/lenovo/Downloads/mood/train/fear/16437.jpg\n",
      "No face detected in /mnt/c/Users/lenovo/Downloads/mood/train/fear/16574.jpg\n",
      "No face detected in /mnt/c/Users/lenovo/Downloads/mood/train/fear/16577.jpg\n",
      "No face detected in /mnt/c/Users/lenovo/Downloads/mood/train/fear/16587.jpg\n",
      "No face detected in /mnt/c/Users/lenovo/Downloads/mood/train/fear/16617.jpg\n",
      "No face detected in /mnt/c/Users/lenovo/Downloads/mood/train/fear/16814.jpg\n",
      "No face detected in /mnt/c/Users/lenovo/Downloads/mood/train/fear/17416.jpg\n",
      "No face detected in /mnt/c/Users/lenovo/Downloads/mood/train/fear/17486.jpg\n",
      "No face detected in /mnt/c/Users/lenovo/Downloads/mood/train/fear/17520.jpg\n",
      "No face detected in /mnt/c/Users/lenovo/Downloads/mood/train/fear/17572.jpg\n",
      "No face detected in /mnt/c/Users/lenovo/Downloads/mood/train/fear/17596.jpg\n"
     ]
    },
    {
     "data": {
      "application/vnd.jupyter.widget-view+json": {
       "model_id": "96dc99307a2c40549db0a75da63038d6",
       "version_major": 2,
       "version_minor": 0
      },
      "text/plain": [
       "Processing images for happy:   0%|          | 0/1000 [00:00<?, ?it/s]"
      ]
     },
     "metadata": {},
     "output_type": "display_data"
    },
    {
     "name": "stdout",
     "output_type": "stream",
     "text": [
      "No face detected in /mnt/c/Users/lenovo/Downloads/mood/train/happy/10228.jpg\n",
      "No face detected in /mnt/c/Users/lenovo/Downloads/mood/train/happy/10258.jpg\n",
      "No face detected in /mnt/c/Users/lenovo/Downloads/mood/train/happy/10617.jpg\n",
      "No face detected in /mnt/c/Users/lenovo/Downloads/mood/train/happy/10838.jpg\n",
      "No face detected in /mnt/c/Users/lenovo/Downloads/mood/train/happy/10930.jpg\n",
      "No face detected in /mnt/c/Users/lenovo/Downloads/mood/train/happy/11244.jpg\n",
      "No face detected in /mnt/c/Users/lenovo/Downloads/mood/train/happy/11282.jpg\n",
      "No face detected in /mnt/c/Users/lenovo/Downloads/mood/train/happy/11621.jpg\n",
      "No face detected in /mnt/c/Users/lenovo/Downloads/mood/train/happy/11861.jpg\n",
      "No face detected in /mnt/c/Users/lenovo/Downloads/mood/train/happy/1187.jpg\n",
      "No face detected in /mnt/c/Users/lenovo/Downloads/mood/train/happy/12167.jpg\n",
      "No face detected in /mnt/c/Users/lenovo/Downloads/mood/train/happy/12424.jpg\n",
      "No face detected in /mnt/c/Users/lenovo/Downloads/mood/train/happy/12426.jpg\n",
      "No face detected in /mnt/c/Users/lenovo/Downloads/mood/train/happy/125.jpg\n",
      "No face detected in /mnt/c/Users/lenovo/Downloads/mood/train/happy/1272.jpg\n",
      "No face detected in /mnt/c/Users/lenovo/Downloads/mood/train/happy/12826.jpg\n",
      "No face detected in /mnt/c/Users/lenovo/Downloads/mood/train/happy/1295.jpg\n",
      "No face detected in /mnt/c/Users/lenovo/Downloads/mood/train/happy/13185.jpg\n",
      "No face detected in /mnt/c/Users/lenovo/Downloads/mood/train/happy/13832.jpg\n",
      "No face detected in /mnt/c/Users/lenovo/Downloads/mood/train/happy/14054.jpg\n",
      "No face detected in /mnt/c/Users/lenovo/Downloads/mood/train/happy/14065.jpg\n",
      "No face detected in /mnt/c/Users/lenovo/Downloads/mood/train/happy/14514.jpg\n"
     ]
    },
    {
     "data": {
      "application/vnd.jupyter.widget-view+json": {
       "model_id": "fda7ac832fd74e62b09bf048dafaebb4",
       "version_major": 2,
       "version_minor": 0
      },
      "text/plain": [
       "Processing images for neutral:   0%|          | 0/1000 [00:00<?, ?it/s]"
      ]
     },
     "metadata": {},
     "output_type": "display_data"
    },
    {
     "name": "stdout",
     "output_type": "stream",
     "text": [
      "No face detected in /mnt/c/Users/lenovo/Downloads/mood/train/neutral/10130.jpg\n",
      "No face detected in /mnt/c/Users/lenovo/Downloads/mood/train/neutral/10143.jpg\n",
      "No face detected in /mnt/c/Users/lenovo/Downloads/mood/train/neutral/10219.jpg\n",
      "No face detected in /mnt/c/Users/lenovo/Downloads/mood/train/neutral/1054.jpg\n",
      "No face detected in /mnt/c/Users/lenovo/Downloads/mood/train/neutral/10569.jpg\n",
      "No face detected in /mnt/c/Users/lenovo/Downloads/mood/train/neutral/10775.jpg\n",
      "No face detected in /mnt/c/Users/lenovo/Downloads/mood/train/neutral/10776.jpg\n",
      "No face detected in /mnt/c/Users/lenovo/Downloads/mood/train/neutral/11434.jpg\n",
      "No face detected in /mnt/c/Users/lenovo/Downloads/mood/train/neutral/11469.jpg\n",
      "No face detected in /mnt/c/Users/lenovo/Downloads/mood/train/neutral/11676.jpg\n",
      "No face detected in /mnt/c/Users/lenovo/Downloads/mood/train/neutral/11780.jpg\n",
      "No face detected in /mnt/c/Users/lenovo/Downloads/mood/train/neutral/11789.jpg\n",
      "No face detected in /mnt/c/Users/lenovo/Downloads/mood/train/neutral/11846.jpg\n",
      "No face detected in /mnt/c/Users/lenovo/Downloads/mood/train/neutral/11919.jpg\n",
      "No face detected in /mnt/c/Users/lenovo/Downloads/mood/train/neutral/12225.jpg\n",
      "No face detected in /mnt/c/Users/lenovo/Downloads/mood/train/neutral/12465.jpg\n",
      "No face detected in /mnt/c/Users/lenovo/Downloads/mood/train/neutral/12608.jpg\n",
      "No face detected in /mnt/c/Users/lenovo/Downloads/mood/train/neutral/12716.jpg\n",
      "No face detected in /mnt/c/Users/lenovo/Downloads/mood/train/neutral/12765.jpg\n",
      "No face detected in /mnt/c/Users/lenovo/Downloads/mood/train/neutral/1303.jpg\n",
      "No face detected in /mnt/c/Users/lenovo/Downloads/mood/train/neutral/13501.jpg\n",
      "No face detected in /mnt/c/Users/lenovo/Downloads/mood/train/neutral/14220.jpg\n",
      "No face detected in /mnt/c/Users/lenovo/Downloads/mood/train/neutral/14512.jpg\n",
      "No face detected in /mnt/c/Users/lenovo/Downloads/mood/train/neutral/14642.jpg\n",
      "No face detected in /mnt/c/Users/lenovo/Downloads/mood/train/neutral/14983.jpg\n",
      "No face detected in /mnt/c/Users/lenovo/Downloads/mood/train/neutral/15144.jpg\n",
      "No face detected in /mnt/c/Users/lenovo/Downloads/mood/train/neutral/15332.jpg\n",
      "No face detected in /mnt/c/Users/lenovo/Downloads/mood/train/neutral/15425.jpg\n",
      "No face detected in /mnt/c/Users/lenovo/Downloads/mood/train/neutral/15553.jpg\n",
      "No face detected in /mnt/c/Users/lenovo/Downloads/mood/train/neutral/15608.jpg\n",
      "No face detected in /mnt/c/Users/lenovo/Downloads/mood/train/neutral/15672.jpg\n",
      "No face detected in /mnt/c/Users/lenovo/Downloads/mood/train/neutral/15895.jpg\n",
      "No face detected in /mnt/c/Users/lenovo/Downloads/mood/train/neutral/15975.jpg\n"
     ]
    },
    {
     "data": {
      "application/vnd.jupyter.widget-view+json": {
       "model_id": "b084c918309043c2859993f87df224e6",
       "version_major": 2,
       "version_minor": 0
      },
      "text/plain": [
       "Processing images for sad:   0%|          | 0/1000 [00:00<?, ?it/s]"
      ]
     },
     "metadata": {},
     "output_type": "display_data"
    },
    {
     "name": "stdout",
     "output_type": "stream",
     "text": [
      "No face detected in /mnt/c/Users/lenovo/Downloads/mood/train/sad/10070.jpg\n",
      "No face detected in /mnt/c/Users/lenovo/Downloads/mood/train/sad/10132.jpg\n",
      "No face detected in /mnt/c/Users/lenovo/Downloads/mood/train/sad/10165.jpg\n",
      "No face detected in /mnt/c/Users/lenovo/Downloads/mood/train/sad/10405.jpg\n",
      "No face detected in /mnt/c/Users/lenovo/Downloads/mood/train/sad/10454.jpg\n",
      "No face detected in /mnt/c/Users/lenovo/Downloads/mood/train/sad/10519.jpg\n",
      "No face detected in /mnt/c/Users/lenovo/Downloads/mood/train/sad/10553.jpg\n",
      "No face detected in /mnt/c/Users/lenovo/Downloads/mood/train/sad/10657.jpg\n",
      "No face detected in /mnt/c/Users/lenovo/Downloads/mood/train/sad/10901.jpg\n",
      "No face detected in /mnt/c/Users/lenovo/Downloads/mood/train/sad/10949.jpg\n",
      "No face detected in /mnt/c/Users/lenovo/Downloads/mood/train/sad/10952.jpg\n",
      "No face detected in /mnt/c/Users/lenovo/Downloads/mood/train/sad/10985.jpg\n",
      "No face detected in /mnt/c/Users/lenovo/Downloads/mood/train/sad/10999.jpg\n",
      "No face detected in /mnt/c/Users/lenovo/Downloads/mood/train/sad/11050.jpg\n",
      "No face detected in /mnt/c/Users/lenovo/Downloads/mood/train/sad/11068.jpg\n",
      "No face detected in /mnt/c/Users/lenovo/Downloads/mood/train/sad/11116.jpg\n",
      "No face detected in /mnt/c/Users/lenovo/Downloads/mood/train/sad/11149.jpg\n",
      "No face detected in /mnt/c/Users/lenovo/Downloads/mood/train/sad/11435.jpg\n",
      "No face detected in /mnt/c/Users/lenovo/Downloads/mood/train/sad/11679.jpg\n",
      "No face detected in /mnt/c/Users/lenovo/Downloads/mood/train/sad/11948.jpg\n",
      "No face detected in /mnt/c/Users/lenovo/Downloads/mood/train/sad/12238.jpg\n",
      "No face detected in /mnt/c/Users/lenovo/Downloads/mood/train/sad/12393.jpg\n",
      "No face detected in /mnt/c/Users/lenovo/Downloads/mood/train/sad/12437.jpg\n",
      "No face detected in /mnt/c/Users/lenovo/Downloads/mood/train/sad/12558.jpg\n",
      "No face detected in /mnt/c/Users/lenovo/Downloads/mood/train/sad/12660.jpg\n",
      "No face detected in /mnt/c/Users/lenovo/Downloads/mood/train/sad/12663.jpg\n",
      "No face detected in /mnt/c/Users/lenovo/Downloads/mood/train/sad/12694.jpg\n",
      "No face detected in /mnt/c/Users/lenovo/Downloads/mood/train/sad/12711.jpg\n",
      "No face detected in /mnt/c/Users/lenovo/Downloads/mood/train/sad/12715.jpg\n",
      "No face detected in /mnt/c/Users/lenovo/Downloads/mood/train/sad/12726.jpg\n",
      "No face detected in /mnt/c/Users/lenovo/Downloads/mood/train/sad/12728.jpg\n",
      "No face detected in /mnt/c/Users/lenovo/Downloads/mood/train/sad/12730.jpg\n",
      "No face detected in /mnt/c/Users/lenovo/Downloads/mood/train/sad/12744.jpg\n",
      "No face detected in /mnt/c/Users/lenovo/Downloads/mood/train/sad/12760.jpg\n",
      "No face detected in /mnt/c/Users/lenovo/Downloads/mood/train/sad/12799.jpg\n",
      "No face detected in /mnt/c/Users/lenovo/Downloads/mood/train/sad/12840.jpg\n",
      "No face detected in /mnt/c/Users/lenovo/Downloads/mood/train/sad/12923.jpg\n",
      "No face detected in /mnt/c/Users/lenovo/Downloads/mood/train/sad/1293.jpg\n",
      "No face detected in /mnt/c/Users/lenovo/Downloads/mood/train/sad/12959.jpg\n",
      "No face detected in /mnt/c/Users/lenovo/Downloads/mood/train/sad/13021.jpg\n",
      "No face detected in /mnt/c/Users/lenovo/Downloads/mood/train/sad/13065.jpg\n",
      "No face detected in /mnt/c/Users/lenovo/Downloads/mood/train/sad/1315.jpg\n",
      "No face detected in /mnt/c/Users/lenovo/Downloads/mood/train/sad/13178.jpg\n",
      "No face detected in /mnt/c/Users/lenovo/Downloads/mood/train/sad/13198.jpg\n",
      "No face detected in /mnt/c/Users/lenovo/Downloads/mood/train/sad/13249.jpg\n",
      "No face detected in /mnt/c/Users/lenovo/Downloads/mood/train/sad/13264.jpg\n",
      "No face detected in /mnt/c/Users/lenovo/Downloads/mood/train/sad/13271.jpg\n",
      "No face detected in /mnt/c/Users/lenovo/Downloads/mood/train/sad/13276.jpg\n",
      "No face detected in /mnt/c/Users/lenovo/Downloads/mood/train/sad/13289.jpg\n",
      "No face detected in /mnt/c/Users/lenovo/Downloads/mood/train/sad/13299.jpg\n",
      "No face detected in /mnt/c/Users/lenovo/Downloads/mood/train/sad/13305.jpg\n",
      "No face detected in /mnt/c/Users/lenovo/Downloads/mood/train/sad/1331.jpg\n",
      "No face detected in /mnt/c/Users/lenovo/Downloads/mood/train/sad/13319.jpg\n",
      "No face detected in /mnt/c/Users/lenovo/Downloads/mood/train/sad/13332.jpg\n",
      "No face detected in /mnt/c/Users/lenovo/Downloads/mood/train/sad/13333.jpg\n",
      "No face detected in /mnt/c/Users/lenovo/Downloads/mood/train/sad/13341.jpg\n",
      "No face detected in /mnt/c/Users/lenovo/Downloads/mood/train/sad/13344.jpg\n",
      "No face detected in /mnt/c/Users/lenovo/Downloads/mood/train/sad/13357.jpg\n",
      "No face detected in /mnt/c/Users/lenovo/Downloads/mood/train/sad/13390.jpg\n",
      "No face detected in /mnt/c/Users/lenovo/Downloads/mood/train/sad/13489.jpg\n",
      "No face detected in /mnt/c/Users/lenovo/Downloads/mood/train/sad/13540.jpg\n",
      "No face detected in /mnt/c/Users/lenovo/Downloads/mood/train/sad/13656.jpg\n",
      "No face detected in /mnt/c/Users/lenovo/Downloads/mood/train/sad/13697.jpg\n",
      "No face detected in /mnt/c/Users/lenovo/Downloads/mood/train/sad/13702.jpg\n",
      "No face detected in /mnt/c/Users/lenovo/Downloads/mood/train/sad/13777.jpg\n",
      "No face detected in /mnt/c/Users/lenovo/Downloads/mood/train/sad/13839.jpg\n",
      "No face detected in /mnt/c/Users/lenovo/Downloads/mood/train/sad/14014.jpg\n",
      "No face detected in /mnt/c/Users/lenovo/Downloads/mood/train/sad/14043.jpg\n",
      "No face detected in /mnt/c/Users/lenovo/Downloads/mood/train/sad/14194.jpg\n",
      "No face detected in /mnt/c/Users/lenovo/Downloads/mood/train/sad/14198.jpg\n",
      "No face detected in /mnt/c/Users/lenovo/Downloads/mood/train/sad/14332.jpg\n",
      "No face detected in /mnt/c/Users/lenovo/Downloads/mood/train/sad/14477.jpg\n",
      "No face detected in /mnt/c/Users/lenovo/Downloads/mood/train/sad/1452.jpg\n",
      "No face detected in /mnt/c/Users/lenovo/Downloads/mood/train/sad/14523.jpg\n",
      "No face detected in /mnt/c/Users/lenovo/Downloads/mood/train/sad/14656.jpg\n",
      "No face detected in /mnt/c/Users/lenovo/Downloads/mood/train/sad/14702.jpg\n",
      "No face detected in /mnt/c/Users/lenovo/Downloads/mood/train/sad/14868.jpg\n",
      "No face detected in /mnt/c/Users/lenovo/Downloads/mood/train/sad/14906.jpg\n",
      "No face detected in /mnt/c/Users/lenovo/Downloads/mood/train/sad/15025.jpg\n",
      "No face detected in /mnt/c/Users/lenovo/Downloads/mood/train/sad/15219.jpg\n",
      "No face detected in /mnt/c/Users/lenovo/Downloads/mood/train/sad/15275.jpg\n",
      "No face detected in /mnt/c/Users/lenovo/Downloads/mood/train/sad/15355.jpg\n",
      "No face detected in /mnt/c/Users/lenovo/Downloads/mood/train/sad/15453.jpg\n",
      "No face detected in /mnt/c/Users/lenovo/Downloads/mood/train/sad/15655.jpg\n",
      "No face detected in /mnt/c/Users/lenovo/Downloads/mood/train/sad/15831.jpg\n",
      "No face detected in /mnt/c/Users/lenovo/Downloads/mood/train/sad/15913.jpg\n",
      "No face detected in /mnt/c/Users/lenovo/Downloads/mood/train/sad/15915.jpg\n",
      "No face detected in /mnt/c/Users/lenovo/Downloads/mood/train/sad/1592.jpg\n",
      "No face detected in /mnt/c/Users/lenovo/Downloads/mood/train/sad/15951.jpg\n",
      "No face detected in /mnt/c/Users/lenovo/Downloads/mood/train/sad/15961.jpg\n",
      "No face detected in /mnt/c/Users/lenovo/Downloads/mood/train/sad/15964.jpg\n",
      "No face detected in /mnt/c/Users/lenovo/Downloads/mood/train/sad/1598.jpg\n",
      "No face detected in /mnt/c/Users/lenovo/Downloads/mood/train/sad/15980.jpg\n",
      "No face detected in /mnt/c/Users/lenovo/Downloads/mood/train/sad/16152.jpg\n",
      "No face detected in /mnt/c/Users/lenovo/Downloads/mood/train/sad/16274.jpg\n",
      "No face detected in /mnt/c/Users/lenovo/Downloads/mood/train/sad/16356.jpg\n"
     ]
    },
    {
     "data": {
      "application/vnd.jupyter.widget-view+json": {
       "model_id": "0fcc9d08698440f6b7587341198c54f4",
       "version_major": 2,
       "version_minor": 0
      },
      "text/plain": [
       "Processing images for surprise:   0%|          | 0/1000 [00:00<?, ?it/s]"
      ]
     },
     "metadata": {},
     "output_type": "display_data"
    },
    {
     "name": "stdout",
     "output_type": "stream",
     "text": [
      "No face detected in /mnt/c/Users/lenovo/Downloads/mood/train/surprise/10580.jpg\n",
      "No face detected in /mnt/c/Users/lenovo/Downloads/mood/train/surprise/10628.jpg\n",
      "No face detected in /mnt/c/Users/lenovo/Downloads/mood/train/surprise/11757.jpg\n",
      "No face detected in /mnt/c/Users/lenovo/Downloads/mood/train/surprise/12219.jpg\n",
      "No face detected in /mnt/c/Users/lenovo/Downloads/mood/train/surprise/12342.jpg\n",
      "No face detected in /mnt/c/Users/lenovo/Downloads/mood/train/surprise/13988.jpg\n",
      "No face detected in /mnt/c/Users/lenovo/Downloads/mood/train/surprise/14231.jpg\n",
      "No face detected in /mnt/c/Users/lenovo/Downloads/mood/train/surprise/14380.jpg\n",
      "No face detected in /mnt/c/Users/lenovo/Downloads/mood/train/surprise/14687.jpg\n",
      "No face detected in /mnt/c/Users/lenovo/Downloads/mood/train/surprise/14886.jpg\n",
      "No face detected in /mnt/c/Users/lenovo/Downloads/mood/train/surprise/15019.jpg\n",
      "No face detected in /mnt/c/Users/lenovo/Downloads/mood/train/surprise/15049.jpg\n",
      "No face detected in /mnt/c/Users/lenovo/Downloads/mood/train/surprise/15130.jpg\n",
      "No face detected in /mnt/c/Users/lenovo/Downloads/mood/train/surprise/15276.jpg\n",
      "No face detected in /mnt/c/Users/lenovo/Downloads/mood/train/surprise/16353.jpg\n",
      "No face detected in /mnt/c/Users/lenovo/Downloads/mood/train/surprise/17174.jpg\n",
      "No face detected in /mnt/c/Users/lenovo/Downloads/mood/train/surprise/17317.jpg\n",
      "No face detected in /mnt/c/Users/lenovo/Downloads/mood/train/surprise/17328.jpg\n",
      "No face detected in /mnt/c/Users/lenovo/Downloads/mood/train/surprise/17441.jpg\n",
      "No face detected in /mnt/c/Users/lenovo/Downloads/mood/train/surprise/1878.jpg\n",
      "No face detected in /mnt/c/Users/lenovo/Downloads/mood/train/surprise/18963.jpg\n",
      "No face detected in /mnt/c/Users/lenovo/Downloads/mood/train/surprise/19238.jpg\n",
      "No face detected in /mnt/c/Users/lenovo/Downloads/mood/train/surprise/19985.jpg\n",
      "No face detected in /mnt/c/Users/lenovo/Downloads/mood/train/surprise/20575.jpg\n",
      "No face detected in /mnt/c/Users/lenovo/Downloads/mood/train/surprise/2059.jpg\n"
     ]
    }
   ],
   "source": [
    "X_train = []\n",
    "y_train = []\n",
    "\n",
    "from tqdm.auto import tqdm\n",
    "\n",
    "for mood, images in tqdm(list(train_data.items()), desc='Processing moods'):\n",
    "    for image_path in tqdm(images, desc='Processing images for {}'.format(mood)):\n",
    "        landmarks = get_facial_landmarks(image_path)\n",
    "        if landmarks is not None:\n",
    "            X_train.append(landmarks.reshape(-1))\n",
    "            y_train.append(mood)\n",
    "        else:\n",
    "            print('No face detected in', image_path)\n",
    "\n",
    "# Save the training data\n",
    "np.save('X_train.npy', X_train)\n",
    "np.save('y_train.npy', y_train)"
   ]
  },
  {
   "cell_type": "code",
   "execution_count": 30,
   "metadata": {},
   "outputs": [
    {
     "data": {
      "application/vnd.jupyter.widget-view+json": {
       "model_id": "33f7449ae42746b59150fef2fd0e4480",
       "version_major": 2,
       "version_minor": 0
      },
      "text/plain": [
       "Processing moods:   0%|          | 0/7 [00:00<?, ?it/s]"
      ]
     },
     "metadata": {},
     "output_type": "display_data"
    },
    {
     "data": {
      "application/vnd.jupyter.widget-view+json": {
       "model_id": "4d1a9c1fc2bd4a349dafd1c8307ad3e2",
       "version_major": 2,
       "version_minor": 0
      },
      "text/plain": [
       "Processing images for angry:   0%|          | 0/100 [00:00<?, ?it/s]"
      ]
     },
     "metadata": {},
     "output_type": "display_data"
    },
    {
     "name": "stdout",
     "output_type": "stream",
     "text": [
      "No face detected in /mnt/c/Users/lenovo/Downloads/mood/validation/angry/10065.jpg\n",
      "No face detected in /mnt/c/Users/lenovo/Downloads/mood/validation/angry/10371.jpg\n",
      "No face detected in /mnt/c/Users/lenovo/Downloads/mood/validation/angry/11096.jpg\n",
      "No face detected in /mnt/c/Users/lenovo/Downloads/mood/validation/angry/12352.jpg\n",
      "No face detected in /mnt/c/Users/lenovo/Downloads/mood/validation/angry/13167.jpg\n"
     ]
    },
    {
     "data": {
      "application/vnd.jupyter.widget-view+json": {
       "model_id": "ca761fb4eb1f44d18363cf830f57ea4a",
       "version_major": 2,
       "version_minor": 0
      },
      "text/plain": [
       "Processing images for disgust:   0%|          | 0/100 [00:00<?, ?it/s]"
      ]
     },
     "metadata": {},
     "output_type": "display_data"
    },
    {
     "name": "stdout",
     "output_type": "stream",
     "text": [
      "No face detected in /mnt/c/Users/lenovo/Downloads/mood/validation/disgust/10053.jpg\n",
      "No face detected in /mnt/c/Users/lenovo/Downloads/mood/validation/disgust/15110.jpg\n",
      "No face detected in /mnt/c/Users/lenovo/Downloads/mood/validation/disgust/16264.jpg\n",
      "No face detected in /mnt/c/Users/lenovo/Downloads/mood/validation/disgust/21851.jpg\n",
      "No face detected in /mnt/c/Users/lenovo/Downloads/mood/validation/disgust/23876.jpg\n",
      "No face detected in /mnt/c/Users/lenovo/Downloads/mood/validation/disgust/3521.jpg\n"
     ]
    },
    {
     "data": {
      "application/vnd.jupyter.widget-view+json": {
       "model_id": "5e5e037c97914d6ba75f1adcc122418a",
       "version_major": 2,
       "version_minor": 0
      },
      "text/plain": [
       "Processing images for fear:   0%|          | 0/100 [00:00<?, ?it/s]"
      ]
     },
     "metadata": {},
     "output_type": "display_data"
    },
    {
     "name": "stdout",
     "output_type": "stream",
     "text": [
      "No face detected in /mnt/c/Users/lenovo/Downloads/mood/validation/fear/10029.jpg\n",
      "No face detected in /mnt/c/Users/lenovo/Downloads/mood/validation/fear/10043.jpg\n",
      "No face detected in /mnt/c/Users/lenovo/Downloads/mood/validation/fear/10099.jpg\n",
      "No face detected in /mnt/c/Users/lenovo/Downloads/mood/validation/fear/10189.jpg\n",
      "No face detected in /mnt/c/Users/lenovo/Downloads/mood/validation/fear/11416.jpg\n",
      "No face detected in /mnt/c/Users/lenovo/Downloads/mood/validation/fear/11471.jpg\n",
      "No face detected in /mnt/c/Users/lenovo/Downloads/mood/validation/fear/11816.jpg\n",
      "No face detected in /mnt/c/Users/lenovo/Downloads/mood/validation/fear/12676.jpg\n",
      "No face detected in /mnt/c/Users/lenovo/Downloads/mood/validation/fear/12891.jpg\n"
     ]
    },
    {
     "data": {
      "application/vnd.jupyter.widget-view+json": {
       "model_id": "5cfa0d47fa6f42e4825bd572c702e19b",
       "version_major": 2,
       "version_minor": 0
      },
      "text/plain": [
       "Processing images for happy:   0%|          | 0/100 [00:00<?, ?it/s]"
      ]
     },
     "metadata": {},
     "output_type": "display_data"
    },
    {
     "name": "stdout",
     "output_type": "stream",
     "text": [
      "No face detected in /mnt/c/Users/lenovo/Downloads/mood/validation/happy/10023.jpg\n",
      "No face detected in /mnt/c/Users/lenovo/Downloads/mood/validation/happy/10456.jpg\n",
      "No face detected in /mnt/c/Users/lenovo/Downloads/mood/validation/happy/10468.jpg\n",
      "No face detected in /mnt/c/Users/lenovo/Downloads/mood/validation/happy/10480.jpg\n",
      "No face detected in /mnt/c/Users/lenovo/Downloads/mood/validation/happy/10792.jpg\n"
     ]
    },
    {
     "data": {
      "application/vnd.jupyter.widget-view+json": {
       "model_id": "945a009497934deb96a814f597d98d04",
       "version_major": 2,
       "version_minor": 0
      },
      "text/plain": [
       "Processing images for neutral:   0%|          | 0/100 [00:00<?, ?it/s]"
      ]
     },
     "metadata": {},
     "output_type": "display_data"
    },
    {
     "name": "stdout",
     "output_type": "stream",
     "text": [
      "No face detected in /mnt/c/Users/lenovo/Downloads/mood/validation/neutral/11448.jpg\n",
      "No face detected in /mnt/c/Users/lenovo/Downloads/mood/validation/neutral/12289.jpg\n"
     ]
    },
    {
     "data": {
      "application/vnd.jupyter.widget-view+json": {
       "model_id": "d4f176e4d8154a78942177b06e877066",
       "version_major": 2,
       "version_minor": 0
      },
      "text/plain": [
       "Processing images for sad:   0%|          | 0/100 [00:00<?, ?it/s]"
      ]
     },
     "metadata": {},
     "output_type": "display_data"
    },
    {
     "name": "stdout",
     "output_type": "stream",
     "text": [
      "No face detected in /mnt/c/Users/lenovo/Downloads/mood/validation/sad/10004.jpg\n",
      "No face detected in /mnt/c/Users/lenovo/Downloads/mood/validation/sad/10031.jpg\n",
      "No face detected in /mnt/c/Users/lenovo/Downloads/mood/validation/sad/10386.jpg\n",
      "No face detected in /mnt/c/Users/lenovo/Downloads/mood/validation/sad/10423.jpg\n",
      "No face detected in /mnt/c/Users/lenovo/Downloads/mood/validation/sad/10655.jpg\n",
      "No face detected in /mnt/c/Users/lenovo/Downloads/mood/validation/sad/1078.jpg\n",
      "No face detected in /mnt/c/Users/lenovo/Downloads/mood/validation/sad/11209.jpg\n",
      "No face detected in /mnt/c/Users/lenovo/Downloads/mood/validation/sad/11295.jpg\n",
      "No face detected in /mnt/c/Users/lenovo/Downloads/mood/validation/sad/1148.jpg\n",
      "No face detected in /mnt/c/Users/lenovo/Downloads/mood/validation/sad/115.jpg\n",
      "No face detected in /mnt/c/Users/lenovo/Downloads/mood/validation/sad/11523.jpg\n",
      "No face detected in /mnt/c/Users/lenovo/Downloads/mood/validation/sad/11626.jpg\n",
      "No face detected in /mnt/c/Users/lenovo/Downloads/mood/validation/sad/11640.jpg\n",
      "No face detected in /mnt/c/Users/lenovo/Downloads/mood/validation/sad/1173.jpg\n",
      "No face detected in /mnt/c/Users/lenovo/Downloads/mood/validation/sad/11746.jpg\n",
      "No face detected in /mnt/c/Users/lenovo/Downloads/mood/validation/sad/11790.jpg\n",
      "No face detected in /mnt/c/Users/lenovo/Downloads/mood/validation/sad/12702.jpg\n"
     ]
    },
    {
     "data": {
      "application/vnd.jupyter.widget-view+json": {
       "model_id": "b4b7b82a19524321b91e478497c0414e",
       "version_major": 2,
       "version_minor": 0
      },
      "text/plain": [
       "Processing images for surprise:   0%|          | 0/100 [00:00<?, ?it/s]"
      ]
     },
     "metadata": {},
     "output_type": "display_data"
    },
    {
     "name": "stdout",
     "output_type": "stream",
     "text": [
      "No face detected in /mnt/c/Users/lenovo/Downloads/mood/validation/surprise/10755.jpg\n",
      "No face detected in /mnt/c/Users/lenovo/Downloads/mood/validation/surprise/10768.jpg\n",
      "No face detected in /mnt/c/Users/lenovo/Downloads/mood/validation/surprise/11418.jpg\n",
      "No face detected in /mnt/c/Users/lenovo/Downloads/mood/validation/surprise/11786.jpg\n",
      "No face detected in /mnt/c/Users/lenovo/Downloads/mood/validation/surprise/12086.jpg\n",
      "No face detected in /mnt/c/Users/lenovo/Downloads/mood/validation/surprise/12463.jpg\n"
     ]
    }
   ],
   "source": [
    "X_val = []\n",
    "y_val = []\n",
    "\n",
    "for mood, images in tqdm(list(val_data.items()), desc='Processing moods'):\n",
    "    for image_path in tqdm(images, desc='Processing images for {}'.format(mood)):\n",
    "        landmarks = get_facial_landmarks(image_path)\n",
    "        if landmarks is not None:\n",
    "            X_val.append(landmarks.reshape(-1))\n",
    "            y_val.append(mood)\n",
    "        else:\n",
    "            print('No face detected in', image_path)\n",
    "\n",
    "# Save the validation data\n",
    "np.save('X_val.npy', X_val)\n",
    "np.save('y_val.npy', y_val)"
   ]
  },
  {
   "cell_type": "code",
   "execution_count": 1,
   "metadata": {},
   "outputs": [],
   "source": [
    "import numpy as np\n",
    "\n",
    "# Load the training data\n",
    "X_train = np.load('X_train.npy')\n",
    "y_train = np.load('y_train.npy')\n",
    "\n",
    "# Load the validation data\n",
    "X_val = np.load('X_val.npy')\n",
    "y_val = np.load('y_val.npy')"
   ]
  },
  {
   "cell_type": "markdown",
   "metadata": {},
   "source": [
    "## Train Model"
   ]
  },
  {
   "cell_type": "code",
   "execution_count": 3,
   "metadata": {},
   "outputs": [
    {
     "data": {
      "text/plain": [
       "<Axes: >"
      ]
     },
     "execution_count": 3,
     "metadata": {},
     "output_type": "execute_result"
    },
    {
     "data": {
      "image/png": "[encoded data removed]",
      "text/plain": [
       "<Figure size 640x480 with 1 Axes>"
      ]
     },
     "metadata": {},
     "output_type": "display_data"
    }
   ],
   "source": [
    "import pandas as pd\n",
    "\n",
    "# Visualize label distribution\n",
    "pd.Series(y_train).value_counts().plot(kind='bar')"
   ]
  },
  {
   "cell_type": "code",
   "execution_count": 4,
   "metadata": {},
   "outputs": [
    {
     "data": {
      "text/plain": [
       "<Axes: >"
      ]
     },
     "execution_count": 4,
     "metadata": {},
     "output_type": "execute_result"
    },
    {
     "data": {
      "image/png": "[encoded data removed]",
      "text/plain": [
       "<Figure size 640x480 with 1 Axes>"
      ]
     },
     "metadata": {},
     "output_type": "display_data"
    }
   ],
   "source": [
    "pd.Series(y_val).value_counts().plot(kind='bar')"
   ]
  },
  {
   "cell_type": "code",
   "execution_count": null,
   "metadata": {},
   "outputs": [],
   "source": [
    "BINARY = False"
   ]
  },
  {
   "cell_type": "code",
   "execution_count": null,
   "metadata": {},
   "outputs": [],
   "source": [
    "# Filter only happy and sad images\n",
    "X_train_filtered = []\n",
    "y_train_filtered = []\n",
    "\n",
    "for i, mood in enumerate(y_train):\n",
    "    if mood in ['happy', 'sad']:\n",
    "        X_train_filtered.append(X_train[i])\n",
    "        y_train_filtered.append(mood)\n",
    "\n",
    "\n",
    "X_val_filtered = []\n",
    "y_val_filtered = []\n",
    "\n",
    "for i, mood in enumerate(y_val):\n",
    "    if mood in ['happy', 'sad']:\n",
    "        X_val_filtered.append(X_val[i])\n",
    "        y_val_filtered.append(mood)\n",
    "\n",
    "if BINARY:\n",
    "    X_train = X_train_filtered\n",
    "    y_train = y_train_filtered\n",
    "    X_val = X_val_filtered\n",
    "    y_val = y_val_filtered\n"
   ]
  },
  {
   "cell_type": "code",
   "execution_count": 11,
   "metadata": {},
   "outputs": [
    {
     "data": {
      "text/html": [
       "<style>#sk-container-id-2 {color: black;}#sk-container-id-2 pre{padding: 0;}#sk-container-id-2 div.sk-toggleable {background-color: white;}#sk-container-id-2 label.sk-toggleable__label {cursor: pointer;display: block;width: 100%;margin-bottom: 0;padding: 0.3em;box-sizing: border-box;text-align: center;}#sk-container-id-2 label.sk-toggleable__label-arrow:before {content: \"▸\";float: left;margin-right: 0.25em;color: #696969;}#sk-container-id-2 label.sk-toggleable__label-arrow:hover:before {color: black;}#sk-container-id-2 div.sk-estimator:hover label.sk-toggleable__label-arrow:before {color: black;}#sk-container-id-2 div.sk-toggleable__content {max-height: 0;max-width: 0;overflow: hidden;text-align: left;background-color: #f0f8ff;}#sk-container-id-2 div.sk-toggleable__content pre {margin: 0.2em;color: black;border-radius: 0.25em;background-color: #f0f8ff;}#sk-container-id-2 input.sk-toggleable__control:checked~div.sk-toggleable__content {max-height: 200px;max-width: 100%;overflow: auto;}#sk-container-id-2 input.sk-toggleable__control:checked~label.sk-toggleable__label-arrow:before {content: \"▾\";}#sk-container-id-2 div.sk-estimator input.sk-toggleable__control:checked~label.sk-toggleable__label {background-color: #d4ebff;}#sk-container-id-2 div.sk-label input.sk-toggleable__control:checked~label.sk-toggleable__label {background-color: #d4ebff;}#sk-container-id-2 input.sk-hidden--visually {border: 0;clip: rect(1px 1px 1px 1px);clip: rect(1px, 1px, 1px, 1px);height: 1px;margin: -1px;overflow: hidden;padding: 0;position: absolute;width: 1px;}#sk-container-id-2 div.sk-estimator {font-family: monospace;background-color: #f0f8ff;border: 1px dotted black;border-radius: 0.25em;box-sizing: border-box;margin-bottom: 0.5em;}#sk-container-id-2 div.sk-estimator:hover {background-color: #d4ebff;}#sk-container-id-2 div.sk-parallel-item::after {content: \"\";width: 100%;border-bottom: 1px solid gray;flex-grow: 1;}#sk-container-id-2 div.sk-label:hover label.sk-toggleable__label {background-color: #d4ebff;}#sk-container-id-2 div.sk-serial::before {content: \"\";position: absolute;border-left: 1px solid gray;box-sizing: border-box;top: 0;bottom: 0;left: 50%;z-index: 0;}#sk-container-id-2 div.sk-serial {display: flex;flex-direction: column;align-items: center;background-color: white;padding-right: 0.2em;padding-left: 0.2em;position: relative;}#sk-container-id-2 div.sk-item {position: relative;z-index: 1;}#sk-container-id-2 div.sk-parallel {display: flex;align-items: stretch;justify-content: center;background-color: white;position: relative;}#sk-container-id-2 div.sk-item::before, #sk-container-id-2 div.sk-parallel-item::before {content: \"\";position: absolute;border-left: 1px solid gray;box-sizing: border-box;top: 0;bottom: 0;left: 50%;z-index: -1;}#sk-container-id-2 div.sk-parallel-item {display: flex;flex-direction: column;z-index: 1;position: relative;background-color: white;}#sk-container-id-2 div.sk-parallel-item:first-child::after {align-self: flex-end;width: 50%;}#sk-container-id-2 div.sk-parallel-item:last-child::after {align-self: flex-start;width: 50%;}#sk-container-id-2 div.sk-parallel-item:only-child::after {width: 0;}#sk-container-id-2 div.sk-dashed-wrapped {border: 1px dashed gray;margin: 0 0.4em 0.5em 0.4em;box-sizing: border-box;padding-bottom: 0.4em;background-color: white;}#sk-container-id-2 div.sk-label label {font-family: monospace;font-weight: bold;display: inline-block;line-height: 1.2em;}#sk-container-id-2 div.sk-label-container {text-align: center;}#sk-container-id-2 div.sk-container {/* jupyter's `normalize.less` sets `[hidden] { display: none; }` but bootstrap.min.css set `[hidden] { display: none !important; }` so we also need the `!important` here to be able to override the default hidden behavior on the sphinx rendered scikit-learn.org. See: https://github.com/scikit-learn/scikit-learn/issues/21755 */display: inline-block !important;position: relative;}#sk-container-id-2 div.sk-text-repr-fallback {display: none;}</style><div id=\"sk-container-id-2\" class=\"sk-top-container\"><div class=\"sk-text-repr-fallback\"><pre>Pipeline(steps=[(&#x27;scaler&#x27;, MinMaxScaler()), (&#x27;classifier&#x27;, SVC())])</pre><b>In a Jupyter environment, please rerun this cell to show the HTML representation or trust the notebook. <br />On GitHub, the HTML representation is unable to render, please try loading this page with nbviewer.org.</b></div><div class=\"sk-container\" hidden><div class=\"sk-item sk-dashed-wrapped\"><div class=\"sk-label-container\"><div class=\"sk-label sk-toggleable\"><input class=\"sk-toggleable__control sk-hidden--visually\" id=\"sk-estimator-id-4\" type=\"checkbox\" ><label for=\"sk-estimator-id-4\" class=\"sk-toggleable__label sk-toggleable__label-arrow\">Pipeline</label><div class=\"sk-toggleable__content\"><pre>Pipeline(steps=[(&#x27;scaler&#x27;, MinMaxScaler()), (&#x27;classifier&#x27;, SVC())])</pre></div></div></div><div class=\"sk-serial\"><div class=\"sk-item\"><div class=\"sk-estimator sk-toggleable\"><input class=\"sk-toggleable__control sk-hidden--visually\" id=\"sk-estimator-id-5\" type=\"checkbox\" ><label for=\"sk-estimator-id-5\" class=\"sk-toggleable__label sk-toggleable__label-arrow\">MinMaxScaler</label><div class=\"sk-toggleable__content\"><pre>MinMaxScaler()</pre></div></div></div><div class=\"sk-item\"><div class=\"sk-estimator sk-toggleable\"><input class=\"sk-toggleable__control sk-hidden--visually\" id=\"sk-estimator-id-6\" type=\"checkbox\" ><label for=\"sk-estimator-id-6\" class=\"sk-toggleable__label sk-toggleable__label-arrow\">SVC</label><div class=\"sk-toggleable__content\"><pre>SVC()</pre></div></div></div></div></div></div></div>"
      ],
      "text/plain": [
       "Pipeline(steps=[('scaler', MinMaxScaler()), ('classifier', SVC())])"
      ]
     },
     "execution_count": 11,
     "metadata": {},
     "output_type": "execute_result"
    }
   ],
   "source": [
    "# Train SVM classifier\n",
    "from sklearn.pipeline import Pipeline\n",
    "from sklearn.svm import SVC\n",
    "from sklearn.preprocessing import MinMaxScaler\n",
    "\n",
    "# Initialize the classifier\n",
    "clf = Pipeline([\n",
    "    ('scaler', MinMaxScaler()),\n",
    "    ('classifier', SVC())\n",
    "])\n",
    "\n",
    "# Train the classifier\n",
    "clf.fit(\n",
    "    X_train,\n",
    "    y_train\n",
    ")"
   ]
  },
  {
   "cell_type": "code",
   "execution_count": 12,
   "metadata": {},
   "outputs": [
    {
     "name": "stdout",
     "output_type": "stream",
     "text": [
      "              precision    recall  f1-score   support\n",
      "\n",
      "       angry       0.27      0.19      0.22        95\n",
      "     disgust       0.50      0.06      0.11        94\n",
      "        fear       0.17      0.18      0.17        91\n",
      "       happy       0.64      0.68      0.66        95\n",
      "     neutral       0.31      0.57      0.40        98\n",
      "         sad       0.34      0.33      0.33        83\n",
      "    surprise       0.52      0.62      0.56        94\n",
      "\n",
      "    accuracy                           0.38       650\n",
      "   macro avg       0.39      0.38      0.35       650\n",
      "weighted avg       0.39      0.38      0.35       650\n",
      "\n"
     ]
    }
   ],
   "source": [
    "from sklearn.metrics import classification_report\n",
    "\n",
    "# Predict the validation data\n",
    "y_pred = clf.predict(X_val)\n",
    "\n",
    "# Print the classification report\n",
    "print(classification_report(y_val, y_pred))"
   ]
  },
  {
   "cell_type": "code",
   "execution_count": null,
   "metadata": {},
   "outputs": [],
   "source": [
    "# Save the classifier\n",
    "import pickle\n",
    "\n",
    "model_name = (\n",
    "    'models/binary_mood_detection.pkl' \n",
    "    if BINARY \n",
    "    else 'models/mood_detection.pkl'\n",
    ")\n",
    "\n",
    "with open(model_name, 'wb') as f:\n",
    "    pickle.dump(clf, f)"
   ]
  },
  {
   "cell_type": "code",
   "execution_count": null,
   "metadata": {},
   "outputs": [],
   "source": []
  }
 ],
 "metadata": {
  "kernelspec": {
   "display_name": "base",
   "language": "python",
   "name": "python3"
  },
  "language_info": {
   "codemirror_mode": {
    "name": "ipython",
    "version": 3
   },
   "file_extension": ".py",
   "mimetype": "text/x-python",
   "name": "python",
   "nbconvert_exporter": "python",
   "pygments_lexer": "ipython3",
   "version": "3.11.5"
  }
 },
 "nbformat": 4,
 "nbformat_minor": 2
}
